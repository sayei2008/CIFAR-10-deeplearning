{
 "cells": [
  {
   "cell_type": "markdown",
   "metadata": {},
   "source": [
    "CT-5107 Advanced Topics in Machine Learning & Information Retrieval\n",
    "\n",
    "Assignment - 1\n",
    "\n",
    "Implementation of a feed forward neural network\n",
    "\n",
    "\n",
    "Programming Language Used: Python\n",
    "\n",
    "Date : 04th March 2019\n",
    "\n",
    "\n",
    "Team Members:\n",
    "\n",
    "Name\t\t: Surya Balakrishnan Ramakrishnan \n",
    "Student ID\t: 18231072\n",
    "Class\t\t: 1 CSD 1 MSc Computer Science (Data Analytics)\n",
    "\n",
    "Name\t\t: Sai Krishna Lakshminarayanan\n",
    "Student ID\t: 18230229\n",
    "Class\t\t: 1 CSD 1 MSc Computer Science (Data Analytics)"
   ]
  },
  {
   "cell_type": "markdown",
   "metadata": {},
   "source": [
    "Part A\n",
    "(work by sai krishna)\n",
    "Overview: \n",
    "\n",
    "The task in hand is to design implement and evaluate a feed forward neural network from scratch. We also implemented back propagation in our neural network. We have used the Python programming language and Jupyter Notebook to interpret the python code.\n",
    "\n",
    "Description of Algorithm:\n",
    "\n",
    "Feedforward Neural Network:\n",
    "\n",
    "The feed forward neural nets or otherwise called as the multi-layer perceptron, are the perfect example of a deep learning model. One of the main goals of the feed forward neural networks  is to perform some sort of approximation of the given function. Considering a function which maps an input variable x to a specific category y such that y = f(x) where f is the given function, a feed forward network obtains a mapping m of the category y such that y = (x, ø) such that the obtained result would be the best possible approximation value. As the name suggests neural nets are inspired from our brains, on how our brain processes information. Generally the feedforward neural networks do not have a feedback mechanism, however a feedforward neural network with a feedback mechanism is called as a recurrent neural networks.\n",
    "\n",
    "Basic Structure of Neural Nets:\n",
    "\n",
    "Neural nets have 3 main components, an input layer, hidden layer/s (one or more) and an output layer. The nodes of the neural networks may or may not be weighted based on the application. The value of the neuron is either 0 or 1. This particular value is generally based on the case if the weighted sum of all the nodes is greater than the threshold value or the weighted sum is less than the threshold value.\n",
    "\n",
    "\n",
    "\n",
    "Each of the blue nodes on the left side are input nodes. Since this is a fully connected neural network each of the input nodes are connected to every hidden layer. Then input is passed on to the hidden layer when an activation function checks if the input nodes has a minimum threshold value. If the input value is greater than the threshold value then the neuron is fired. The output is 1 if the neuron was fired else it is 0.\n",
    " "
   ]
  },
  {
   "cell_type": "markdown",
   "metadata": {},
   "source": [
    "(work by surya)\n",
    "Functions within feedforward neural network:\n",
    "\n",
    "1)\tCost Function:.\n",
    "\n",
    "The cost function is responsible mainly for training and solving the model. The cost function quadratic and smooth and it is used to identify how much changes in bias and weights could result in improvement in cost. To minimise the cost we mainly focus on minimising the cost for the quadratic function. is also called logistic function. The sigmoid function is defined as:\n",
    "\n",
    "\n",
    "Where:\t w is the weight, b denotes the bias, n is the total number of training input cases used to train the model, a is the output vector for the set of input vectors.\n",
    "\n",
    "\n",
    "2)\tGradient Function:\n",
    "\n",
    "In neural nets we use a non-linear gradient function, which is responsible for the function to become non convex. In other words the neural nets are trained in an iterative format  by gradient based optimisers, to obtain the best possible outcome.\n",
    "\n",
    "\n",
    "Where: \n",
    "        The change in v1 and v2 is such that change in cost is negative.\n",
    "\n",
    "We try to fix the size of the movement so that for a fixed small value we try to decrease the cost as much as possible. In other words we try to move a fixed of a fixed size such that we try to find the direction of movement to minimise the cost as much as possible.\n",
    "\n",
    "\n",
    "3)\tTraining a neural network:\n",
    "\n",
    "We use the gradient decent function to find the appropriate weight and bias which would yield the best possible outcome. Initially we initialise these values to a very small value which is close to zero. Then we keep incrementing the value until the error on the training set is minimised.  Another approach to accomplish this is to implement the back propagation algorithm. We fix the cost and weights to a small value initially. When the algorithm has a forward pass the cost for the values is calculated along with the gradient and error. Then the algorithm propagates back to the initial state to fix another value which yields a better result."
   ]
  },
  {
   "cell_type": "markdown",
   "metadata": {},
   "source": [
    "Work Split-up:\n",
    "\n",
    "Student Sai Krishna Lakshminarayanan (18230229) \n",
    "\n",
    "Part 1:  Sigmoid, derivative, init, grad forward propagation functions\n",
    "Part 2 : Confusion matrix for the circle class\n",
    "Part 3 : Data pre-processing\n",
    "Part 4 : Confusion matrix for the cat and horse classes\n",
    "Part 5: Use of Relu softmax and sigmoid functions together\n",
    "Documentation: Feedforward neural nets, Gradient function, \n",
    "\n",
    "Student Surya Balakrishnan Ramakrishnan (18231072) \n",
    "Part 1 : Backward Propagation, Train  and Predict  functions\n",
    "Part 2 : Error vs epoc for the circle class\n",
    "Part 3 : Tweaking ff and nn function, modification of beta and epoc value.\n",
    "Part 4 : Error vs epoc plot for cat and horse classes.\n",
    "Part 5 : Use of ensembles by combining multiple neural nets. \n",
    "Documentation: Basic structure of neural nets, Cost function and training a neural net.\n"
   ]
  },
  {
   "cell_type": "code",
   "execution_count": null,
   "metadata": {},
   "outputs": [],
   "source": [
    "#References\n",
    "#https://towardsdatascience.com/deep-learning-feedforward-neural-network-26a6705dbdc7\n",
    "#https://medium.com/@14prakash/back-propagation-is-very-simple-who-made-it-complicated-97b794c97e5c\n"
   ]
  },
  {
   "cell_type": "markdown",
   "metadata": {},
   "source": [
    "\n",
    "\n",
    "Now, the feed forward neural network algorithm is initiated.\n",
    "The algorithm is such that first we define the sigmoid and derivate sigmoid functions and initiate the number of nodes in the hidden layer and input layer.\n",
    "\n",
    "For this assignment purpose, the hidden layer is 1.\n",
    "\n",
    "Then the weights are assigned randomly at first and then in the forward propagation and backward propagation, they are reweighted by help of the bias values.\n",
    "\n",
    "Then the input values are used to train the model and based on which the testing is done."
   ]
  },
  {
   "cell_type": "code",
   "execution_count": 1,
   "metadata": {},
   "outputs": [],
   "source": [
    "#loading all the required packages\n",
    "import pandas as panda\n",
    "import numpy as num\n",
    "import math\n",
    "import seaborn as sea\n",
    "import matplotlib\n",
    "import matplotlib.pyplot as plot\n",
    "import sklearn\n",
    "import sklearn.datasets\n",
    "from sklearn import metrics"
   ]
  },
  {
   "cell_type": "code",
   "execution_count": 189,
   "metadata": {},
   "outputs": [],
   "source": [
    "#this part of work of Sai Krishna\n",
    "class FFNN():#intiating the class for feed forward neural network\n",
    "    def sig(self, a): # sigmoid function for the model\n",
    "        return 1 / (1 + num.exp(-a))#output for the sigmoid function\n",
    "    def derivativesig(self, a):#function for the derivative of the sigmoid\n",
    "        #derivative of sigmoid\n",
    "        return self.sigmoid(a) * (1 - self.sigmoid(a))#output for the derivative sigmoid function\n",
    "    \n",
    "    def __init__(self, xtrain, ytrain, xtest, ytest,  beta=0.02, epoch=100, hidlayer = 1, hid_node =4 ):#obtaining the test train data\n",
    "        #and giving the no of nodes for the hidden and input layer\n",
    "        self.out_layer = 1#defining the output layer\n",
    "        self.output = None#initialising the output value for future use\n",
    "        self.predval = None#initialising the prediction value for future use\n",
    "        self.hidlayer = hidlayer #storing the value for the hidden layer\n",
    "        self.hid_node = hid_node #storing the value for number of hidden nodes\n",
    "        self.beta = beta #storing the beta or the learning rate value\n",
    "        self.epoch = epoch #storing the epoch value\n",
    "        self.xtrain = xtrain.as_matrix() # storing the training dataset for x\n",
    "        self.imp_layer = xtrain.as_matrix().shape[1]#storing the number of nodes in the input layer\n",
    "        self.ytrain = ytrain # storing the training dataset for y \n",
    "        self.xtest = xtest.as_matrix() # storing the testing dataset for x\n",
    "        self.ytest = ytest.as_matrix()# storing the testing dataset for y\n",
    "        self.w1 = num.random.randn(self.imp_layer, self.hid_node) # initialising random weights for w1\n",
    "        self.w2 = num.random.randn(self.hid_node, self.out_layer)# initialising random weights for w2\n",
    "        self.b1 = num.ones((1, self.hid_node))# initialising random weights for b1\n",
    "        self.b2 = num.ones((1, self.out_layer))# initialising random weights for b2\n",
    "    \n",
    "    def grad(self, d1, d2, tb1, tb2):#initialising the gradient function for the neural network.\n",
    "        self.w1 = self.w1 - (self.beta*d1)#updating weight of w1 using d1\n",
    "        self.w2 = self.w2 - (self.beta * d2)#updating weight of w2 using d2\n",
    "        self.b1 = self.b1 - self.beta*tb1#updating weight of b1 using tb1\n",
    "        self.b2 = self.b2 - self.beta*tb2#updating weight of b2 using tb2\n",
    "    #this part of work of Surya    \n",
    "    def BWprop(self):#initialising the forward backward propagation\n",
    "        x1 = num.array(self.xtrain)#starting the forward propogation by initialising x1 with values of xtrain\n",
    "        y1 = num.dot(self.xtrain, self.w1) + self.b1#generating y1 based on xtrain and the weights of w1 and b1\n",
    "        x2 = self.sig(y1)#taking x2 as the value of the sigmoid function of y1\n",
    "        y2 = num.dot(x2, self.w2) + self.b2#generating y2 based on x2 and the weights of w2 and b2\n",
    "        x3 = self.sig(y2)#taking x2 as the value of the sigmoid function of y2\n",
    "        e = x3 - num.array(self.ytrain).reshape(len(self.ytrain), 1)#updating the error value as the difference between x3 and ytrain\n",
    "        delta2 = e * x3 * (1-x3)  #delta2 is obtained as the product of error and x3 and (1-x3)\n",
    "        delta1 = num.dot(delta2,  self.w2.T) * x2 * (1-x2)#initialising the backward propogation by obtaining the delta1 value\n",
    "        #as the dot product of w2 ,x2 and (1-x2)\n",
    "        d1 = num.dot(self.xtrain.T, delta1)#d1 is obtained as the dot product of transpose of xtrain and delta1\n",
    "        tb1 = num.sum(delta1, axis=0).reshape(num.shape(self.b1))#tb1 is obtained as the sum of the delta1 and the b1 reshaped value       \n",
    "        d2 = num.dot(x2.T, delta2) #d2 is obtained as the dot product of the transpose of T and delta2\n",
    "        tb2 = num.sum(delta2, axis=0).reshape(num.shape(self.b2))#tb2 is obtained as the sum of delta2 and the reshaped value of b2\n",
    "        self.grad(d1, d2, tb1, tb2)# readjusting the weights by the help of gradient function                              \n",
    "       \n",
    "        return x3, e #returns the values of x3 and e respestively\n",
    "\n",
    "    def train(self):#initialising the train function to train the data \n",
    "        ERR = []#initialising a list for storing the error values\n",
    "        for i in range(self.epoch):#looping for the range of the epoch\n",
    "            out, e = self.BWprop()#storing forward and backward propogation results for the dataset in variables out and e\n",
    "            self.output = out#storing the final output value for publishing later\n",
    "            RMSE = ((num.sum(e) ** 2)**(1/2))/len(self.ytrain)#obtaining the root mean square error\n",
    "            ERR.append(RMSE)#storing the values of error\n",
    "\n",
    "        return ERR\n",
    "\n",
    "    def Pred(self):#initialising the predict function for predicting the values based on xtest\n",
    "        x1 = num.array(self.xtest)#storing the values of xtest in x1\n",
    "        y1 = num.dot(x1, self.w1)#obtaining y1 as the dot product of x1 and weight w1\n",
    "        x2 = self.sig(y1)#obtaining x2 as the value of the sigmoid function of y1\n",
    "        y2 = num.dot(x2, self.w2)#getting y2 as the dot product of x2 and weight w2\n",
    "        x3 = self.sig(y2)#obtaining x3 as the value of the sigmoid function of y2\n",
    "        self.predval = num.round(x3)#obtaining the predicted value as the rounded value of x3.\n",
    "#References\n",
    "#https://towardsdatascience.com/deep-learning-feedforward-neural-network-26a6705dbdc7\n",
    "#https://dzone.com/articles/the-very-basic-introduction-to-feed-forward-neural\n",
    "#https://stackoverflow.com/questions/52831534/why-is-a-method-of-a-python-class-declared-without-self-and-without-decorators\n",
    "#https://stackoverflow.com/questions/45264141/convert-array-into-dataframe-in-python\n",
    "#https://stackoverflow.com/questions/1720421/how-to-concatenate-two-lists-in-python\n",
    "#Class Lecture Notes"
   ]
  },
  {
   "cell_type": "markdown",
   "metadata": {},
   "source": [
    "Part B\n",
    "\n",
    "In this the Neural Network model is applied to the simple dataset of circles500 given.\n",
    "\n",
    "The code given LoadDataset.ipynb is used for intial purposes of loading the dataset and then it is split into train and test."
   ]
  },
  {
   "cell_type": "code",
   "execution_count": 47,
   "metadata": {},
   "outputs": [
    {
     "name": "stderr",
     "output_type": "stream",
     "text": [
      "C:\\Users\\sayei\\Anaconda3\\lib\\site-packages\\ipykernel_launcher.py:9: FutureWarning: Method .as_matrix will be removed in a future version. Use .values instead.\n",
      "  if __name__ == '__main__':\n"
     ]
    }
   ],
   "source": [
    "#this part of work of Sai Krishna\n",
    "df = panda.read_csv(\"circles500.csv\")#loading the dataset\n",
    "y = df['Class'].values#storing y as the label values of class\n",
    "del df['Class']    #dropping class from the df\n",
    "X = df.as_matrix() #storing rest of the things as an array\n"
   ]
  },
  {
   "cell_type": "code",
   "execution_count": 48,
   "metadata": {},
   "outputs": [
    {
     "name": "stdout",
     "output_type": "stream",
     "text": [
      "len(X): 500\n",
      "len(X[0]): 2\n",
      "len(X[:,0]): 500\n",
      "X: nsamples = 500 , nattribs = 2\n",
      "len(y) 500\n",
      "num.shape(y): (500,)\n",
      "num.shape(yt): (500, 1)\n",
      "y transpose: nsamples = 500 , nattribs = 1\n"
     ]
    }
   ],
   "source": [
    "print (\"len(X):\", len(X))            # length of outer array\n",
    "print (\"len(X[0]):\", len(X[0]))      # length of inner array\n",
    "print (\"len(X[:,0]):\", len(X[:,0]))  # length of column 0\n",
    "(nsamples, nattribs) = num.shape(X) #dimensions of the array\n",
    "print (\"X: nsamples =\", nsamples, \", nattribs =\", nattribs) #samples and attributes\n",
    "print (\"len(y)\", len(y))#length of y\n",
    "print (\"num.shape(y):\", num.shape(y))#reshaping y\n",
    "yt = num.reshape(y, (len(y),1))  #storing it in yt\n",
    "print (\"num.shape(yt):\", num.shape(yt))#printing it\n",
    "(nsamples, nattribs) = num.shape(yt)#obtaining the dimensions\n",
    "print (\"y transpose: nsamples =\", nsamples, \", nattribs =\", nattribs)#showing the count and attributes"
   ]
  },
  {
   "cell_type": "code",
   "execution_count": 49,
   "metadata": {},
   "outputs": [
    {
     "data": {
      "text/plain": [
       "<matplotlib.collections.PathCollection at 0x208ea8c4b00>"
      ]
     },
     "execution_count": 49,
     "metadata": {},
     "output_type": "execute_result"
    },
    {
     "data": {
      "image/png": "[encoded data removed]",
      "text/plain": [
       "<Figure size 432x288 with 1 Axes>"
      ]
     },
     "metadata": {
      "needs_background": "light"
     },
     "output_type": "display_data"
    }
   ],
   "source": [
    "plot.scatter(X[:,0], X[:,1], c=y) #plotting column x[0] vs x[1] column and colouring based on the class values"
   ]
  },
  {
   "cell_type": "markdown",
   "metadata": {},
   "source": [
    "Now, storing the df as a variable named circle and splitting it into x and y with x as the data values x0 and x1 and y as class"
   ]
  },
  {
   "cell_type": "code",
   "execution_count": 66,
   "metadata": {},
   "outputs": [
    {
     "name": "stderr",
     "output_type": "stream",
     "text": [
      "C:\\Users\\sayei\\Anaconda3\\lib\\site-packages\\ipykernel_launcher.py:16: FutureWarning: Method .as_matrix will be removed in a future version. Use .values instead.\n",
      "  app.launch_new_instance()\n",
      "C:\\Users\\sayei\\Anaconda3\\lib\\site-packages\\ipykernel_launcher.py:17: FutureWarning: Method .as_matrix will be removed in a future version. Use .values instead.\n",
      "C:\\Users\\sayei\\Anaconda3\\lib\\site-packages\\ipykernel_launcher.py:19: FutureWarning: Method .as_matrix will be removed in a future version. Use .values instead.\n",
      "C:\\Users\\sayei\\Anaconda3\\lib\\site-packages\\ipykernel_launcher.py:20: FutureWarning: Method .as_matrix will be removed in a future version. Use .values instead.\n"
     ]
    }
   ],
   "source": [
    "#this part of work of Sai Krishna\n",
    "circle = df\n",
    "circle.head()\n",
    "x = circle[[\"X0\", \"X1\"]]#storing x as the values of column X0 and X1\n",
    "y = circle[\"Class\"]#storing y as the values of column class\n",
    "xtrain = x[1:450]#splitting x into x train y train and x test and y test\n",
    "ytrain = y[1:450]\n",
    "xtest = x[451:500]\n",
    "ytest = y[451:500]"
   ]
  },
  {
   "cell_type": "code",
   "execution_count": 194,
   "metadata": {},
   "outputs": [
    {
     "name": "stderr",
     "output_type": "stream",
     "text": [
      "C:\\Users\\sayei\\Anaconda3\\lib\\site-packages\\ipykernel_launcher.py:17: FutureWarning: Method .as_matrix will be removed in a future version. Use .values instead.\n",
      "C:\\Users\\sayei\\Anaconda3\\lib\\site-packages\\ipykernel_launcher.py:18: FutureWarning: Method .as_matrix will be removed in a future version. Use .values instead.\n",
      "C:\\Users\\sayei\\Anaconda3\\lib\\site-packages\\ipykernel_launcher.py:20: FutureWarning: Method .as_matrix will be removed in a future version. Use .values instead.\n",
      "C:\\Users\\sayei\\Anaconda3\\lib\\site-packages\\ipykernel_launcher.py:21: FutureWarning: Method .as_matrix will be removed in a future version. Use .values instead.\n"
     ]
    },
    {
     "data": {
      "image/png": "[encoded data removed]",
      "text/plain": [
       "<Figure size 432x288 with 1 Axes>"
      ]
     },
     "metadata": {
      "needs_background": "light"
     },
     "output_type": "display_data"
    },
    {
     "data": {
      "image/png": "[encoded data removed]",
      "text/plain": [
       "<Figure size 432x288 with 2 Axes>"
      ]
     },
     "metadata": {
      "needs_background": "light"
     },
     "output_type": "display_data"
    },
    {
     "name": "stdout",
     "output_type": "stream",
     "text": [
      "Test Accuracy for Circles is  68.42105263157895\n"
     ]
    }
   ],
   "source": [
    "#this part of work of Surya\n",
    "circleresult = FFNN(xtrain, ytrain, xtest, ytest)#feeding the values into the model\n",
    "err = circleresult.train()#storing the trained values in a variable\n",
    "circleresult.Pred()#performing prediction\n",
    "plot.plot(err)#plotting the trained values\n",
    "plot.xlabel(\"Epoch\")#giving x label\n",
    "plot.ylabel(\"Error\")#giving y label\n",
    "plot.title(\"Error vs Epoch for circles\")#providing the title\n",
    "plot.show()#showing the obtained plot\n",
    "#this part of work of Sai Krishna    \n",
    "axis=plot.axes()#storing the axis values\n",
    "con_matrix = metrics.confusion_matrix(circleresult.ytest, circleresult.predval, sample_weight=None)\n",
    "#producing the confusion matrix\n",
    "con_val = panda.DataFrame(con_matrix, columns = [\"Pre0\", \"Pre1\"], index=[\"Act0\", \"Act1\"])\n",
    "sea.heatmap(con_val, annot=True,annot_kws={\"size\": 8}, fmt='g', cmap='Greens', ax=axis)#generating it through heatmap\n",
    "axis.set_title('Confusion Matrix for circles')#establishing the title\n",
    "plot.show()#showing the confusion matrix\n",
    "print('Test Accuracy for Circles is ', (1-num.sum(abs(circleresult.predval - circleresult.ytest.reshape(len(circleresult.ytest), 1)))/len(circleresult.ytest))*100)\n",
    "#obtaining the accuracy  \n",
    "\n",
    "\n"
   ]
  },
  {
   "cell_type": "markdown",
   "metadata": {},
   "source": [
    "Observation\n",
    "\n",
    "It is observed that for less value of hidden nodes itself the model is giving good accuracy\n",
    "This is because there are only less input columns\n",
    "The error is high initially and is reduced as the epoch increases.\n",
    "There are some false negative values which say that the model weights have to be provided in a better way to fit the positive values correctly.\n",
    "The overall accuracy is 68.4% and it follows the error vs epoch standard curve to an extent.\n",
    "In this way the a non linearlly separable dataset is classfied."
   ]
  },
  {
   "cell_type": "markdown",
   "metadata": {},
   "source": [
    "Part 3\n",
    "\n",
    "Loading the dataset by help of the code given for reference in the assignment section"
   ]
  },
  {
   "cell_type": "code",
   "execution_count": 59,
   "metadata": {},
   "outputs": [],
   "source": [
    "# This function taken from the CIFAR website\n",
    "#this is work of Sai\n",
    "def unpickle(file):\n",
    "    import pickle\n",
    "    with open(file, 'rb') as fo:\n",
    "        dict = pickle.load(fo, encoding='bytes')\n",
    "    return dict\n",
    "\n",
    "# Loaded in this way, each of the batch files contains a dictionary with the following elements:\n",
    "#   data -- a 10000x3072 numpy array of uint8s. Each row of the array stores a 32x32 colour image. \n",
    "#           The first 1024 entries contain the red channel values, the next 1024 the green, and the final 1024 the blue. \n",
    "#           The image is stored in row-major order, so that the first 32 entries of the array are the red channel values \n",
    "#           of the first row of the image.\n",
    "#   labels -- a list of 10000 numbers in the range 0-9. \n",
    "#             The number at index i indicates the label of the ith image in the array data.\n"
   ]
  },
  {
   "cell_type": "code",
   "execution_count": 4,
   "metadata": {},
   "outputs": [],
   "source": [
    "def loadbatch(batchname):\n",
    "    folder = 'cifar-10-batches-py'\n",
    "    batch = unpickle(folder+\"/\"+batchname)\n",
    "    return batch\n",
    "def loadlabelnames():\n",
    "    folder = 'cifar-10-batches-py'\n",
    "    meta = unpickle(folder+\"/\"+'batches.meta')\n",
    "    return meta[b'label_names']"
   ]
  },
  {
   "cell_type": "code",
   "execution_count": 5,
   "metadata": {},
   "outputs": [],
   "source": [
    "def visualise(data, index):\n",
    "    # MM Jan 2019: Given a CIFAR data nparray and the index of an image, display the image.\n",
    "    # Note that the images will be quite fuzzy looking, because they are low res (32x32).\n",
    "\n",
    "    picture = data[index]\n",
    "    # Initially, the data is a 1D array of 3072 pixels; reshape it to a 3D array of 3x32x32 pixels\n",
    "    # Note: after reshaping like this, you could select one colour channel or average them.\n",
    "    picture.shape = (3,32,32) \n",
    "    \n",
    "    # Plot.imshow requires the RGB to be the third dimension, not the first, so need to rearrange\n",
    "    picture = picture.transpose([1, 2, 0])\n",
    "    plot.imshow(picture)\n",
    "    plot.show()"
   ]
  },
  {
   "cell_type": "code",
   "execution_count": 6,
   "metadata": {},
   "outputs": [
    {
     "name": "stdout",
     "output_type": "stream",
     "text": [
      "Number of items in the batch is 4\n",
      "All keys in the batch: dict_keys([b'batch_label', b'labels', b'data', b'filenames'])\n"
     ]
    }
   ],
   "source": [
    "batch1 = loadbatch('data_batch_1')\n",
    "print(\"Number of items in the batch is\", len(batch1))\n",
    "\n",
    "# Display all keys, so we can see the ones we want\n",
    "print('All keys in the batch:', batch1.keys())"
   ]
  },
  {
   "cell_type": "code",
   "execution_count": 7,
   "metadata": {},
   "outputs": [
    {
     "name": "stdout",
     "output_type": "stream",
     "text": [
      "size of data in this batch: 10000 , size of labels: 10000\n",
      "<class 'numpy.ndarray'>\n",
      "(10000, 3072)\n"
     ]
    }
   ],
   "source": [
    "#this is work of Sai\n",
    "data = batch1[b'data']\n",
    "labels = batch1[b'labels']\n",
    "print (\"size of data in this batch:\", len(data), \", size of labels:\", len(labels))\n",
    "print (type(data))\n",
    "print(data.shape)\n",
    "\n",
    "names = loadlabelnames()"
   ]
  },
  {
   "cell_type": "code",
   "execution_count": 8,
   "metadata": {},
   "outputs": [
    {
     "data": {
      "image/png": "[encoded data removed]",
      "text/plain": [
       "<Figure size 432x288 with 1 Axes>"
      ]
     },
     "metadata": {
      "needs_background": "light"
     },
     "output_type": "display_data"
    },
    {
     "name": "stdout",
     "output_type": "stream",
     "text": [
      "Image 200 : Class is  b'frog'\n"
     ]
    },
    {
     "data": {
      "image/png": "[encoded data removed]",
      "text/plain": [
       "<Figure size 432x288 with 1 Axes>"
      ]
     },
     "metadata": {
      "needs_background": "light"
     },
     "output_type": "display_data"
    },
    {
     "name": "stdout",
     "output_type": "stream",
     "text": [
      "Image 201 : Class is  b'automobile'\n"
     ]
    },
    {
     "data": {
      "image/png": "[encoded data removed]",
      "text/plain": [
       "<Figure size 432x288 with 1 Axes>"
      ]
     },
     "metadata": {
      "needs_background": "light"
     },
     "output_type": "display_data"
    },
    {
     "name": "stdout",
     "output_type": "stream",
     "text": [
      "Image 202 : Class is  b'truck'\n"
     ]
    },
    {
     "data": {
      "image/png": "[encoded data removed]",
      "text/plain": [
       "<Figure size 432x288 with 1 Axes>"
      ]
     },
     "metadata": {
      "needs_background": "light"
     },
     "output_type": "display_data"
    },
    {
     "name": "stdout",
     "output_type": "stream",
     "text": [
      "Image 203 : Class is  b'cat'\n"
     ]
    },
    {
     "data": {
      "image/png": "[encoded data removed]",
      "text/plain": [
       "<Figure size 432x288 with 1 Axes>"
      ]
     },
     "metadata": {
      "needs_background": "light"
     },
     "output_type": "display_data"
    },
    {
     "name": "stdout",
     "output_type": "stream",
     "text": [
      "Image 204 : Class is  b'frog'\n"
     ]
    },
    {
     "data": {
      "image/png": "[encoded data removed]",
      "text/plain": [
       "<Figure size 432x288 with 1 Axes>"
      ]
     },
     "metadata": {
      "needs_background": "light"
     },
     "output_type": "display_data"
    },
    {
     "name": "stdout",
     "output_type": "stream",
     "text": [
      "Image 205 : Class is  b'truck'\n"
     ]
    },
    {
     "data": {
      "image/png": "[encoded data removed]",
      "text/plain": [
       "<Figure size 432x288 with 1 Axes>"
      ]
     },
     "metadata": {
      "needs_background": "light"
     },
     "output_type": "display_data"
    },
    {
     "name": "stdout",
     "output_type": "stream",
     "text": [
      "Image 206 : Class is  b'automobile'\n"
     ]
    },
    {
     "data": {
      "image/png": "[encoded data removed]",
      "text/plain": [
       "<Figure size 432x288 with 1 Axes>"
      ]
     },
     "metadata": {
      "needs_background": "light"
     },
     "output_type": "display_data"
    },
    {
     "name": "stdout",
     "output_type": "stream",
     "text": [
      "Image 207 : Class is  b'cat'\n"
     ]
    },
    {
     "data": {
      "image/png": "[encoded data removed]",
      "text/plain": [
       "<Figure size 432x288 with 1 Axes>"
      ]
     },
     "metadata": {
      "needs_background": "light"
     },
     "output_type": "display_data"
    },
    {
     "name": "stdout",
     "output_type": "stream",
     "text": [
      "Image 208 : Class is  b'truck'\n"
     ]
    },
    {
     "data": {
      "image/png": "[encoded data removed]",
      "text/plain": [
       "<Figure size 432x288 with 1 Axes>"
      ]
     },
     "metadata": {
      "needs_background": "light"
     },
     "output_type": "display_data"
    },
    {
     "name": "stdout",
     "output_type": "stream",
     "text": [
      "Image 209 : Class is  b'frog'\n"
     ]
    },
    {
     "data": {
      "image/png": "[encoded data removed]",
      "text/plain": [
       "<Figure size 432x288 with 1 Axes>"
      ]
     },
     "metadata": {
      "needs_background": "light"
     },
     "output_type": "display_data"
    },
    {
     "name": "stdout",
     "output_type": "stream",
     "text": [
      "Image 210 : Class is  b'frog'\n"
     ]
    },
    {
     "data": {
      "image/png": "[encoded data removed]",
      "text/plain": [
       "<Figure size 432x288 with 1 Axes>"
      ]
     },
     "metadata": {
      "needs_background": "light"
     },
     "output_type": "display_data"
    },
    {
     "name": "stdout",
     "output_type": "stream",
     "text": [
      "Image 211 : Class is  b'horse'\n"
     ]
    },
    {
     "data": {
      "image/png": "[encoded data removed]",
      "text/plain": [
       "<Figure size 432x288 with 1 Axes>"
      ]
     },
     "metadata": {
      "needs_background": "light"
     },
     "output_type": "display_data"
    },
    {
     "name": "stdout",
     "output_type": "stream",
     "text": [
      "Image 212 : Class is  b'automobile'\n"
     ]
    },
    {
     "data": {
      "image/png": "[encoded data removed]",
      "text/plain": [
       "<Figure size 432x288 with 1 Axes>"
      ]
     },
     "metadata": {
      "needs_background": "light"
     },
     "output_type": "display_data"
    },
    {
     "name": "stdout",
     "output_type": "stream",
     "text": [
      "Image 213 : Class is  b'airplane'\n"
     ]
    },
    {
     "data": {
      "image/png": "[encoded data removed]",
      "text/plain": [
       "<Figure size 432x288 with 1 Axes>"
      ]
     },
     "metadata": {
      "needs_background": "light"
     },
     "output_type": "display_data"
    },
    {
     "name": "stdout",
     "output_type": "stream",
     "text": [
      "Image 214 : Class is  b'truck'\n"
     ]
    },
    {
     "data": {
      "image/png": "[encoded data removed]",
      "text/plain": [
       "<Figure size 432x288 with 1 Axes>"
      ]
     },
     "metadata": {
      "needs_background": "light"
     },
     "output_type": "display_data"
    },
    {
     "name": "stdout",
     "output_type": "stream",
     "text": [
      "Image 215 : Class is  b'dog'\n"
     ]
    },
    {
     "data": {
      "image/png": "[encoded data removed]",
      "text/plain": [
       "<Figure size 432x288 with 1 Axes>"
      ]
     },
     "metadata": {
      "needs_background": "light"
     },
     "output_type": "display_data"
    },
    {
     "name": "stdout",
     "output_type": "stream",
     "text": [
      "Image 216 : Class is  b'ship'\n"
     ]
    },
    {
     "data": {
      "image/png": "[encoded data removed]",
      "text/plain": [
       "<Figure size 432x288 with 1 Axes>"
      ]
     },
     "metadata": {
      "needs_background": "light"
     },
     "output_type": "display_data"
    },
    {
     "name": "stdout",
     "output_type": "stream",
     "text": [
      "Image 217 : Class is  b'dog'\n"
     ]
    },
    {
     "data": {
      "image/png": "[encoded data removed]",
      "text/plain": [
       "<Figure size 432x288 with 1 Axes>"
      ]
     },
     "metadata": {
      "needs_background": "light"
     },
     "output_type": "display_data"
    },
    {
     "name": "stdout",
     "output_type": "stream",
     "text": [
      "Image 218 : Class is  b'bird'\n"
     ]
    },
    {
     "data": {
      "image/png": "[encoded data removed]",
      "text/plain": [
       "<Figure size 432x288 with 1 Axes>"
      ]
     },
     "metadata": {
      "needs_background": "light"
     },
     "output_type": "display_data"
    },
    {
     "name": "stdout",
     "output_type": "stream",
     "text": [
      "Image 219 : Class is  b'truck'\n"
     ]
    }
   ],
   "source": [
    "# Display a few images from the batch\n",
    "for i in range (200,220):\n",
    "   visualise(data, i)\n",
    "   print(\"Image\", i,\": Class is \", names[labels[i]])"
   ]
  },
  {
   "cell_type": "markdown",
   "metadata": {},
   "source": [
    "Now data preprocessing is done by considering y as the value of labels \n",
    "a is stored as the location with values where label is 3 which is the value for cat\n",
    "b is stored as the location with values where label is 7 which is the value for horse\n",
    "c stores the list of the index of the rows where label is 3\n",
    "d stores the list of the index of the rows where label is 7\n",
    "e is the sum of them"
   ]
  },
  {
   "cell_type": "code",
   "execution_count": 9,
   "metadata": {},
   "outputs": [
    {
     "data": {
      "text/plain": [
       "[9,\n",
       " 17,\n",
       " 21,\n",
       " 26,\n",
       " 33,\n",
       " 36,\n",
       " 38,\n",
       " 39,\n",
       " 59,\n",
       " 74,\n",
       " 78,\n",
       " 80,\n",
       " 91,\n",
       " 101,\n",
       " 141,\n",
       " 142,\n",
       " 150,\n",
       " 159,\n",
       " 169,\n",
       " 174,\n",
       " 197,\n",
       " 203,\n",
       " 207,\n",
       " 229,\n",
       " 241,\n",
       " 251,\n",
       " 253,\n",
       " 258,\n",
       " 266,\n",
       " 287,\n",
       " 314,\n",
       " 315,\n",
       " 331,\n",
       " 333,\n",
       " 334,\n",
       " 342,\n",
       " 367,\n",
       " 370,\n",
       " 377,\n",
       " 384,\n",
       " 395,\n",
       " 416,\n",
       " 445,\n",
       " 446,\n",
       " 476,\n",
       " 479,\n",
       " 494,\n",
       " 517,\n",
       " 548,\n",
       " 550,\n",
       " 583,\n",
       " 597,\n",
       " 603,\n",
       " 618,\n",
       " 629,\n",
       " 638,\n",
       " 639,\n",
       " 678,\n",
       " 684,\n",
       " 685,\n",
       " 691,\n",
       " 702,\n",
       " 717,\n",
       " 730,\n",
       " 740,\n",
       " 774,\n",
       " 776,\n",
       " 785,\n",
       " 788,\n",
       " 792,\n",
       " 801,\n",
       " 805,\n",
       " 806,\n",
       " 809,\n",
       " 845,\n",
       " 846,\n",
       " 850,\n",
       " 857,\n",
       " 861,\n",
       " 865,\n",
       " 869,\n",
       " 878,\n",
       " 882,\n",
       " 895,\n",
       " 922,\n",
       " 941,\n",
       " 949,\n",
       " 955,\n",
       " 969,\n",
       " 992,\n",
       " 995,\n",
       " 998,\n",
       " 1002,\n",
       " 1010,\n",
       " 1025,\n",
       " 1030,\n",
       " 1041,\n",
       " 1048,\n",
       " 1055,\n",
       " 1057,\n",
       " 1059,\n",
       " 1070,\n",
       " 1074,\n",
       " 1076,\n",
       " 1098,\n",
       " 1100,\n",
       " 1104,\n",
       " 1109,\n",
       " 1120,\n",
       " 1121,\n",
       " 1124,\n",
       " 1127,\n",
       " 1128,\n",
       " 1150,\n",
       " 1160,\n",
       " 1164,\n",
       " 1196,\n",
       " 1202,\n",
       " 1208,\n",
       " 1252,\n",
       " 1257,\n",
       " 1265,\n",
       " 1271,\n",
       " 1281,\n",
       " 1286,\n",
       " 1316,\n",
       " 1321,\n",
       " 1345,\n",
       " 1351,\n",
       " 1358,\n",
       " 1363,\n",
       " 1368,\n",
       " 1405,\n",
       " 1426,\n",
       " 1427,\n",
       " 1449,\n",
       " 1461,\n",
       " 1487,\n",
       " 1496,\n",
       " 1499,\n",
       " 1510,\n",
       " 1511,\n",
       " 1528,\n",
       " 1534,\n",
       " 1539,\n",
       " 1546,\n",
       " 1553,\n",
       " 1554,\n",
       " 1555,\n",
       " 1556,\n",
       " 1568,\n",
       " 1573,\n",
       " 1603,\n",
       " 1608,\n",
       " 1625,\n",
       " 1655,\n",
       " 1658,\n",
       " 1685,\n",
       " 1696,\n",
       " 1700,\n",
       " 1703,\n",
       " 1710,\n",
       " 1723,\n",
       " 1735,\n",
       " 1737,\n",
       " 1769,\n",
       " 1772,\n",
       " 1778,\n",
       " 1785,\n",
       " 1803,\n",
       " 1815,\n",
       " 1823,\n",
       " 1834,\n",
       " 1839,\n",
       " 1841,\n",
       " 1845,\n",
       " 1846,\n",
       " 1856,\n",
       " 1864,\n",
       " 1879,\n",
       " 1888,\n",
       " 1892,\n",
       " 1895,\n",
       " 1897,\n",
       " 1916,\n",
       " 1919,\n",
       " 1938,\n",
       " 1951,\n",
       " 1958,\n",
       " 1961,\n",
       " 1962,\n",
       " 1963,\n",
       " 1965,\n",
       " 1966,\n",
       " 1969,\n",
       " 2011,\n",
       " 2025,\n",
       " 2042,\n",
       " 2048,\n",
       " 2051,\n",
       " 2057,\n",
       " 2068,\n",
       " 2082,\n",
       " 2083,\n",
       " 2092,\n",
       " 2127,\n",
       " 2130,\n",
       " 2132,\n",
       " 2137,\n",
       " 2141,\n",
       " 2154,\n",
       " 2162,\n",
       " 2164,\n",
       " 2165,\n",
       " 2168,\n",
       " 2174,\n",
       " 2181,\n",
       " 2197,\n",
       " 2198,\n",
       " 2223,\n",
       " 2254,\n",
       " 2270,\n",
       " 2279,\n",
       " 2307,\n",
       " 2312,\n",
       " 2324,\n",
       " 2326,\n",
       " 2337,\n",
       " 2348,\n",
       " 2353,\n",
       " 2359,\n",
       " 2375,\n",
       " 2376,\n",
       " 2383,\n",
       " 2386,\n",
       " 2404,\n",
       " 2406,\n",
       " 2412,\n",
       " 2414,\n",
       " 2425,\n",
       " 2432,\n",
       " 2443,\n",
       " 2447,\n",
       " 2452,\n",
       " 2501,\n",
       " 2505,\n",
       " 2518,\n",
       " 2521,\n",
       " 2525,\n",
       " 2527,\n",
       " 2530,\n",
       " 2559,\n",
       " 2562,\n",
       " 2564,\n",
       " 2565,\n",
       " 2581,\n",
       " 2594,\n",
       " 2606,\n",
       " 2627,\n",
       " 2648,\n",
       " 2649,\n",
       " 2665,\n",
       " 2668,\n",
       " 2696,\n",
       " 2699,\n",
       " 2723,\n",
       " 2738,\n",
       " 2739,\n",
       " 2766,\n",
       " 2770,\n",
       " 2781,\n",
       " 2782,\n",
       " 2785,\n",
       " 2809,\n",
       " 2865,\n",
       " 2876,\n",
       " 2892,\n",
       " 2903,\n",
       " 2930,\n",
       " 2931,\n",
       " 2933,\n",
       " 2944,\n",
       " 2947,\n",
       " 2982,\n",
       " 2986,\n",
       " 3000,\n",
       " 3003,\n",
       " 3016,\n",
       " 3026,\n",
       " 3043,\n",
       " 3052,\n",
       " 3057,\n",
       " 3081,\n",
       " 3084,\n",
       " 3087,\n",
       " 3100,\n",
       " 3105,\n",
       " 3108,\n",
       " 3109,\n",
       " 3110,\n",
       " 3125,\n",
       " 3134,\n",
       " 3172,\n",
       " 3177,\n",
       " 3178,\n",
       " 3188,\n",
       " 3190,\n",
       " 3194,\n",
       " 3201,\n",
       " 3218,\n",
       " 3220,\n",
       " 3222,\n",
       " 3242,\n",
       " 3248,\n",
       " 3286,\n",
       " 3287,\n",
       " 3289,\n",
       " 3302,\n",
       " 3320,\n",
       " 3328,\n",
       " 3340,\n",
       " 3351,\n",
       " 3355,\n",
       " 3365,\n",
       " 3371,\n",
       " 3373,\n",
       " 3376,\n",
       " 3385,\n",
       " 3391,\n",
       " 3429,\n",
       " 3447,\n",
       " 3457,\n",
       " 3461,\n",
       " 3472,\n",
       " 3475,\n",
       " 3486,\n",
       " 3490,\n",
       " 3514,\n",
       " 3524,\n",
       " 3546,\n",
       " 3550,\n",
       " 3551,\n",
       " 3552,\n",
       " 3565,\n",
       " 3568,\n",
       " 3571,\n",
       " 3575,\n",
       " 3591,\n",
       " 3594,\n",
       " 3615,\n",
       " 3617,\n",
       " 3646,\n",
       " 3650,\n",
       " 3654,\n",
       " 3679,\n",
       " 3703,\n",
       " 3709,\n",
       " 3728,\n",
       " 3749,\n",
       " 3756,\n",
       " 3758,\n",
       " 3762,\n",
       " 3763,\n",
       " 3772,\n",
       " 3785,\n",
       " 3787,\n",
       " 3792,\n",
       " 3795,\n",
       " 3801,\n",
       " 3807,\n",
       " 3813,\n",
       " 3818,\n",
       " 3834,\n",
       " 3843,\n",
       " 3863,\n",
       " 3864,\n",
       " 3870,\n",
       " 3875,\n",
       " 3888,\n",
       " 3905,\n",
       " 3910,\n",
       " 3927,\n",
       " 3956,\n",
       " 3997,\n",
       " 4007,\n",
       " 4010,\n",
       " 4020,\n",
       " 4025,\n",
       " 4033,\n",
       " 4072,\n",
       " 4073,\n",
       " 4083,\n",
       " 4087,\n",
       " 4089,\n",
       " 4098,\n",
       " 4102,\n",
       " 4108,\n",
       " 4110,\n",
       " 4117,\n",
       " 4124,\n",
       " 4128,\n",
       " 4139,\n",
       " 4146,\n",
       " 4149,\n",
       " 4151,\n",
       " 4166,\n",
       " 4174,\n",
       " 4177,\n",
       " 4179,\n",
       " 4197,\n",
       " 4221,\n",
       " 4243,\n",
       " 4266,\n",
       " 4268,\n",
       " 4288,\n",
       " 4294,\n",
       " 4302,\n",
       " 4308,\n",
       " 4310,\n",
       " 4329,\n",
       " 4336,\n",
       " 4346,\n",
       " 4349,\n",
       " 4350,\n",
       " 4361,\n",
       " 4388,\n",
       " 4392,\n",
       " 4402,\n",
       " 4405,\n",
       " 4414,\n",
       " 4422,\n",
       " 4428,\n",
       " 4435,\n",
       " 4437,\n",
       " 4439,\n",
       " 4449,\n",
       " 4462,\n",
       " 4465,\n",
       " 4472,\n",
       " 4475,\n",
       " 4481,\n",
       " 4483,\n",
       " 4484,\n",
       " 4515,\n",
       " 4519,\n",
       " 4530,\n",
       " 4531,\n",
       " 4542,\n",
       " 4558,\n",
       " 4564,\n",
       " 4569,\n",
       " 4581,\n",
       " 4628,\n",
       " 4630,\n",
       " 4657,\n",
       " 4669,\n",
       " 4672,\n",
       " 4674,\n",
       " 4697,\n",
       " 4720,\n",
       " 4737,\n",
       " 4745,\n",
       " 4760,\n",
       " 4772,\n",
       " 4791,\n",
       " 4796,\n",
       " 4799,\n",
       " 4827,\n",
       " 4829,\n",
       " 4835,\n",
       " 4836,\n",
       " 4847,\n",
       " 4855,\n",
       " 4876,\n",
       " 4887,\n",
       " 4908,\n",
       " 4912,\n",
       " 4915,\n",
       " 4921,\n",
       " 4934,\n",
       " 4950,\n",
       " 4954,\n",
       " 4963,\n",
       " 4982,\n",
       " 4984,\n",
       " 4994,\n",
       " 5006,\n",
       " 5007,\n",
       " 5008,\n",
       " 5017,\n",
       " 5023,\n",
       " 5046,\n",
       " 5053,\n",
       " 5062,\n",
       " 5065,\n",
       " 5072,\n",
       " 5080,\n",
       " 5086,\n",
       " 5088,\n",
       " 5097,\n",
       " 5106,\n",
       " 5107,\n",
       " 5110,\n",
       " 5113,\n",
       " 5128,\n",
       " 5129,\n",
       " 5147,\n",
       " 5162,\n",
       " 5183,\n",
       " 5190,\n",
       " 5192,\n",
       " 5209,\n",
       " 5218,\n",
       " 5221,\n",
       " 5242,\n",
       " 5260,\n",
       " 5277,\n",
       " 5319,\n",
       " 5321,\n",
       " 5329,\n",
       " 5354,\n",
       " 5389,\n",
       " 5400,\n",
       " 5407,\n",
       " 5423,\n",
       " 5425,\n",
       " 5430,\n",
       " 5445,\n",
       " 5450,\n",
       " 5455,\n",
       " 5473,\n",
       " 5475,\n",
       " 5478,\n",
       " 5479,\n",
       " 5492,\n",
       " 5493,\n",
       " 5502,\n",
       " 5507,\n",
       " 5520,\n",
       " 5534,\n",
       " 5539,\n",
       " 5541,\n",
       " 5545,\n",
       " 5553,\n",
       " 5578,\n",
       " 5586,\n",
       " 5592,\n",
       " 5598,\n",
       " 5601,\n",
       " 5610,\n",
       " 5615,\n",
       " 5664,\n",
       " 5678,\n",
       " 5705,\n",
       " 5713,\n",
       " 5720,\n",
       " 5725,\n",
       " 5733,\n",
       " 5741,\n",
       " 5744,\n",
       " 5797,\n",
       " 5799,\n",
       " 5800,\n",
       " 5823,\n",
       " 5838,\n",
       " 5848,\n",
       " 5856,\n",
       " 5859,\n",
       " 5870,\n",
       " 5876,\n",
       " 5877,\n",
       " 5896,\n",
       " 5914,\n",
       " 5915,\n",
       " 5918,\n",
       " 5942,\n",
       " 5945,\n",
       " 5963,\n",
       " 5966,\n",
       " 5980,\n",
       " 6014,\n",
       " 6030,\n",
       " 6045,\n",
       " 6060,\n",
       " 6061,\n",
       " 6070,\n",
       " 6071,\n",
       " 6079,\n",
       " 6089,\n",
       " 6108,\n",
       " 6135,\n",
       " 6151,\n",
       " 6162,\n",
       " 6167,\n",
       " 6169,\n",
       " 6185,\n",
       " 6186,\n",
       " 6198,\n",
       " 6199,\n",
       " 6200,\n",
       " 6205,\n",
       " 6207,\n",
       " 6208,\n",
       " 6217,\n",
       " 6223,\n",
       " 6229,\n",
       " 6256,\n",
       " 6263,\n",
       " 6284,\n",
       " 6304,\n",
       " 6306,\n",
       " 6309,\n",
       " 6319,\n",
       " 6324,\n",
       " 6330,\n",
       " 6332,\n",
       " 6343,\n",
       " 6348,\n",
       " 6351,\n",
       " 6368,\n",
       " 6385,\n",
       " 6394,\n",
       " 6402,\n",
       " 6404,\n",
       " 6405,\n",
       " 6422,\n",
       " 6430,\n",
       " 6433,\n",
       " 6458,\n",
       " 6462,\n",
       " 6466,\n",
       " 6482,\n",
       " 6490,\n",
       " 6491,\n",
       " 6492,\n",
       " 6493,\n",
       " 6496,\n",
       " 6507,\n",
       " 6511,\n",
       " 6540,\n",
       " 6555,\n",
       " 6556,\n",
       " 6557,\n",
       " 6567,\n",
       " 6574,\n",
       " 6584,\n",
       " 6585,\n",
       " 6590,\n",
       " 6595,\n",
       " 6596,\n",
       " 6602,\n",
       " 6607,\n",
       " 6618,\n",
       " 6619,\n",
       " 6635,\n",
       " 6637,\n",
       " 6649,\n",
       " 6658,\n",
       " 6669,\n",
       " 6674,\n",
       " 6684,\n",
       " 6690,\n",
       " 6700,\n",
       " 6714,\n",
       " 6716,\n",
       " 6724,\n",
       " 6729,\n",
       " 6732,\n",
       " 6742,\n",
       " 6753,\n",
       " 6758,\n",
       " 6767,\n",
       " 6782,\n",
       " 6783,\n",
       " 6787,\n",
       " 6790,\n",
       " 6812,\n",
       " 6837,\n",
       " 6847,\n",
       " 6849,\n",
       " 6855,\n",
       " 6868,\n",
       " 6872,\n",
       " 6883,\n",
       " 6902,\n",
       " 6905,\n",
       " 6910,\n",
       " 6913,\n",
       " 6914,\n",
       " 6930,\n",
       " 6936,\n",
       " 6945,\n",
       " 6961,\n",
       " 6980,\n",
       " 6981,\n",
       " 6994,\n",
       " 7004,\n",
       " 7006,\n",
       " 7049,\n",
       " 7050,\n",
       " 7063,\n",
       " 7065,\n",
       " 7075,\n",
       " 7086,\n",
       " 7107,\n",
       " 7121,\n",
       " 7122,\n",
       " 7123,\n",
       " 7125,\n",
       " 7128,\n",
       " 7132,\n",
       " 7138,\n",
       " 7142,\n",
       " 7153,\n",
       " 7161,\n",
       " 7171,\n",
       " 7180,\n",
       " 7200,\n",
       " 7205,\n",
       " 7213,\n",
       " 7220,\n",
       " 7224,\n",
       " 7228,\n",
       " 7230,\n",
       " 7234,\n",
       " 7235,\n",
       " 7253,\n",
       " 7259,\n",
       " 7268,\n",
       " 7290,\n",
       " 7307,\n",
       " 7309,\n",
       " 7313,\n",
       " 7318,\n",
       " 7343,\n",
       " 7346,\n",
       " 7355,\n",
       " 7367,\n",
       " 7369,\n",
       " 7389,\n",
       " 7411,\n",
       " 7412,\n",
       " 7426,\n",
       " 7427,\n",
       " 7432,\n",
       " 7439,\n",
       " 7460,\n",
       " 7467,\n",
       " 7469,\n",
       " 7474,\n",
       " 7478,\n",
       " 7483,\n",
       " 7485,\n",
       " 7487,\n",
       " 7489,\n",
       " 7492,\n",
       " 7493,\n",
       " 7498,\n",
       " 7500,\n",
       " 7501,\n",
       " 7517,\n",
       " 7519,\n",
       " 7532,\n",
       " 7533,\n",
       " 7539,\n",
       " 7551,\n",
       " 7566,\n",
       " 7567,\n",
       " 7584,\n",
       " 7593,\n",
       " 7603,\n",
       " 7615,\n",
       " 7651,\n",
       " 7665,\n",
       " 7667,\n",
       " 7671,\n",
       " 7680,\n",
       " 7681,\n",
       " 7689,\n",
       " 7719,\n",
       " 7734,\n",
       " 7749,\n",
       " 7753,\n",
       " 7765,\n",
       " 7768,\n",
       " 7771,\n",
       " 7789,\n",
       " 7802,\n",
       " 7803,\n",
       " 7804,\n",
       " 7812,\n",
       " 7814,\n",
       " 7835,\n",
       " 7837,\n",
       " 7839,\n",
       " 7852,\n",
       " 7869,\n",
       " 7872,\n",
       " 7893,\n",
       " 7906,\n",
       " 7909,\n",
       " 7924,\n",
       " 7928,\n",
       " 7931,\n",
       " 7932,\n",
       " 7946,\n",
       " 7987,\n",
       " 7997,\n",
       " 7999,\n",
       " 8000,\n",
       " 8011,\n",
       " 8013,\n",
       " 8028,\n",
       " 8029,\n",
       " 8030,\n",
       " 8041,\n",
       " 8054,\n",
       " 8056,\n",
       " 8067,\n",
       " 8082,\n",
       " 8088,\n",
       " 8101,\n",
       " 8104,\n",
       " 8105,\n",
       " 8122,\n",
       " 8133,\n",
       " 8139,\n",
       " 8151,\n",
       " 8153,\n",
       " 8158,\n",
       " 8161,\n",
       " 8162,\n",
       " 8164,\n",
       " 8179,\n",
       " 8183,\n",
       " 8193,\n",
       " 8210,\n",
       " 8224,\n",
       " 8246,\n",
       " 8251,\n",
       " 8255,\n",
       " 8259,\n",
       " 8262,\n",
       " 8266,\n",
       " 8285,\n",
       " 8286,\n",
       " 8288,\n",
       " 8302,\n",
       " 8319,\n",
       " 8330,\n",
       " 8336,\n",
       " 8349,\n",
       " 8356,\n",
       " 8370,\n",
       " 8380,\n",
       " 8381,\n",
       " 8385,\n",
       " 8386,\n",
       " 8408,\n",
       " 8420,\n",
       " 8422,\n",
       " 8434,\n",
       " 8467,\n",
       " 8503,\n",
       " 8507,\n",
       " 8520,\n",
       " 8592,\n",
       " 8598,\n",
       " 8599,\n",
       " 8606,\n",
       " 8609,\n",
       " 8629,\n",
       " 8635,\n",
       " 8645,\n",
       " 8649,\n",
       " 8656,\n",
       " 8680,\n",
       " 8686,\n",
       " 8710,\n",
       " 8711,\n",
       " 8714,\n",
       " 8722,\n",
       " 8738,\n",
       " 8739,\n",
       " 8760,\n",
       " 8761,\n",
       " 8781,\n",
       " 8786,\n",
       " 8790,\n",
       " 8808,\n",
       " 8822,\n",
       " 8839,\n",
       " 8846,\n",
       " 8863,\n",
       " 8864,\n",
       " 8876,\n",
       " 8880,\n",
       " 8908,\n",
       " 8916,\n",
       " 8918,\n",
       " 8943,\n",
       " 8947,\n",
       " 8962,\n",
       " 8974,\n",
       " 8978,\n",
       " 8986,\n",
       " 8988,\n",
       " 9005,\n",
       " 9006,\n",
       " 9008,\n",
       " 9020,\n",
       " 9024,\n",
       " 9034,\n",
       " 9040,\n",
       " 9051,\n",
       " 9052,\n",
       " 9060,\n",
       " 9073,\n",
       " 9081,\n",
       " 9100,\n",
       " 9107,\n",
       " 9111,\n",
       " 9120,\n",
       " 9128,\n",
       " 9129,\n",
       " 9135,\n",
       " 9145,\n",
       " 9152,\n",
       " 9156,\n",
       " 9163,\n",
       " 9164,\n",
       " 9166,\n",
       " 9173,\n",
       " 9182,\n",
       " 9183,\n",
       " 9185,\n",
       " 9222,\n",
       " 9228,\n",
       " 9248,\n",
       " 9283,\n",
       " 9291,\n",
       " 9293,\n",
       " 9298,\n",
       " 9300,\n",
       " 9304,\n",
       " 9305,\n",
       " 9307,\n",
       " 9311,\n",
       " 9332,\n",
       " 9334,\n",
       " 9338,\n",
       " 9343,\n",
       " 9345,\n",
       " 9357,\n",
       " 9371,\n",
       " 9393,\n",
       " 9394,\n",
       " 9398,\n",
       " 9399,\n",
       " 9405,\n",
       " 9421,\n",
       " 9429,\n",
       " 9479,\n",
       " 9485,\n",
       " 9489,\n",
       " 9564,\n",
       " 9570,\n",
       " 9574,\n",
       " 9591,\n",
       " 9600,\n",
       " 9609,\n",
       " 9612,\n",
       " 9613,\n",
       " 9624,\n",
       " 9632,\n",
       " 9647,\n",
       " 9656,\n",
       " 9667,\n",
       " 9670,\n",
       " 9694,\n",
       " 9700,\n",
       " 9702,\n",
       " 9710,\n",
       " 9720,\n",
       " 9737,\n",
       " 9738,\n",
       " 9752,\n",
       " 9760,\n",
       " 9783,\n",
       " 9792,\n",
       " 9794,\n",
       " 9817,\n",
       " 9830,\n",
       " 9841,\n",
       " 9842,\n",
       " 9846,\n",
       " 9856,\n",
       " 9865,\n",
       " 9892,\n",
       " 9897,\n",
       " ...]"
      ]
     },
     "execution_count": 9,
     "metadata": {},
     "output_type": "execute_result"
    }
   ],
   "source": [
    "#this is work of Sai\n",
    "y=panda.DataFrame(labels)#storing the class values\n",
    "a=panda.DataFrame(y.loc[y[0] ==3])#storing values of cat class value 3\n",
    "b=panda.DataFrame(y.loc[y[0]==7])#storing the values of horse class value 7\n",
    "c=y.index[y[0] ==3].tolist()#storing index of cat \n",
    "d=y.index[y[0]==7].tolist()#storing index of horse\n",
    "e=c+d# sum\n",
    "e"
   ]
  },
  {
   "cell_type": "code",
   "execution_count": 10,
   "metadata": {},
   "outputs": [
    {
     "data": {
      "text/html": [
       "<div>\n",
       "<style scoped>\n",
       "    .dataframe tbody tr th:only-of-type {\n",
       "        vertical-align: middle;\n",
       "    }\n",
       "\n",
       "    .dataframe tbody tr th {\n",
       "        vertical-align: top;\n",
       "    }\n",
       "\n",
       "    .dataframe thead th {\n",
       "        text-align: right;\n",
       "    }\n",
       "</style>\n",
       "<table border=\"1\" class=\"dataframe\">\n",
       "  <thead>\n",
       "    <tr style=\"text-align: right;\">\n",
       "      <th></th>\n",
       "      <th>0</th>\n",
       "      <th>1</th>\n",
       "      <th>2</th>\n",
       "      <th>3</th>\n",
       "      <th>4</th>\n",
       "      <th>5</th>\n",
       "      <th>6</th>\n",
       "      <th>7</th>\n",
       "      <th>8</th>\n",
       "      <th>9</th>\n",
       "      <th>...</th>\n",
       "      <th>3062</th>\n",
       "      <th>3063</th>\n",
       "      <th>3064</th>\n",
       "      <th>3065</th>\n",
       "      <th>3066</th>\n",
       "      <th>3067</th>\n",
       "      <th>3068</th>\n",
       "      <th>3069</th>\n",
       "      <th>3070</th>\n",
       "      <th>3071</th>\n",
       "    </tr>\n",
       "  </thead>\n",
       "  <tbody>\n",
       "    <tr>\n",
       "      <th>0</th>\n",
       "      <td>125</td>\n",
       "      <td>110</td>\n",
       "      <td>102</td>\n",
       "      <td>106</td>\n",
       "      <td>106</td>\n",
       "      <td>141</td>\n",
       "      <td>175</td>\n",
       "      <td>175</td>\n",
       "      <td>148</td>\n",
       "      <td>106</td>\n",
       "      <td>...</td>\n",
       "      <td>60</td>\n",
       "      <td>62</td>\n",
       "      <td>67</td>\n",
       "      <td>70</td>\n",
       "      <td>75</td>\n",
       "      <td>79</td>\n",
       "      <td>81</td>\n",
       "      <td>82</td>\n",
       "      <td>84</td>\n",
       "      <td>86</td>\n",
       "    </tr>\n",
       "    <tr>\n",
       "      <th>1</th>\n",
       "      <td>110</td>\n",
       "      <td>142</td>\n",
       "      <td>151</td>\n",
       "      <td>133</td>\n",
       "      <td>83</td>\n",
       "      <td>55</td>\n",
       "      <td>48</td>\n",
       "      <td>51</td>\n",
       "      <td>51</td>\n",
       "      <td>52</td>\n",
       "      <td>...</td>\n",
       "      <td>86</td>\n",
       "      <td>87</td>\n",
       "      <td>83</td>\n",
       "      <td>81</td>\n",
       "      <td>79</td>\n",
       "      <td>71</td>\n",
       "      <td>67</td>\n",
       "      <td>60</td>\n",
       "      <td>60</td>\n",
       "      <td>62</td>\n",
       "    </tr>\n",
       "    <tr>\n",
       "      <th>2</th>\n",
       "      <td>252</td>\n",
       "      <td>249</td>\n",
       "      <td>250</td>\n",
       "      <td>251</td>\n",
       "      <td>251</td>\n",
       "      <td>249</td>\n",
       "      <td>239</td>\n",
       "      <td>248</td>\n",
       "      <td>251</td>\n",
       "      <td>251</td>\n",
       "      <td>...</td>\n",
       "      <td>120</td>\n",
       "      <td>121</td>\n",
       "      <td>117</td>\n",
       "      <td>105</td>\n",
       "      <td>97</td>\n",
       "      <td>117</td>\n",
       "      <td>121</td>\n",
       "      <td>113</td>\n",
       "      <td>109</td>\n",
       "      <td>88</td>\n",
       "    </tr>\n",
       "    <tr>\n",
       "      <th>3</th>\n",
       "      <td>131</td>\n",
       "      <td>124</td>\n",
       "      <td>116</td>\n",
       "      <td>124</td>\n",
       "      <td>142</td>\n",
       "      <td>159</td>\n",
       "      <td>171</td>\n",
       "      <td>174</td>\n",
       "      <td>180</td>\n",
       "      <td>184</td>\n",
       "      <td>...</td>\n",
       "      <td>29</td>\n",
       "      <td>18</td>\n",
       "      <td>17</td>\n",
       "      <td>9</td>\n",
       "      <td>5</td>\n",
       "      <td>17</td>\n",
       "      <td>47</td>\n",
       "      <td>69</td>\n",
       "      <td>73</td>\n",
       "      <td>73</td>\n",
       "    </tr>\n",
       "    <tr>\n",
       "      <th>4</th>\n",
       "      <td>7</td>\n",
       "      <td>7</td>\n",
       "      <td>5</td>\n",
       "      <td>7</td>\n",
       "      <td>11</td>\n",
       "      <td>11</td>\n",
       "      <td>17</td>\n",
       "      <td>25</td>\n",
       "      <td>18</td>\n",
       "      <td>9</td>\n",
       "      <td>...</td>\n",
       "      <td>123</td>\n",
       "      <td>141</td>\n",
       "      <td>115</td>\n",
       "      <td>110</td>\n",
       "      <td>97</td>\n",
       "      <td>82</td>\n",
       "      <td>82</td>\n",
       "      <td>76</td>\n",
       "      <td>81</td>\n",
       "      <td>119</td>\n",
       "    </tr>\n",
       "  </tbody>\n",
       "</table>\n",
       "<p>5 rows × 3072 columns</p>\n",
       "</div>"
      ],
      "text/plain": [
       "   0     1     2     3     4     5     6     7     8     9     ...   3062  \\\n",
       "0   125   110   102   106   106   141   175   175   148   106  ...     60   \n",
       "1   110   142   151   133    83    55    48    51    51    52  ...     86   \n",
       "2   252   249   250   251   251   249   239   248   251   251  ...    120   \n",
       "3   131   124   116   124   142   159   171   174   180   184  ...     29   \n",
       "4     7     7     5     7    11    11    17    25    18     9  ...    123   \n",
       "\n",
       "   3063  3064  3065  3066  3067  3068  3069  3070  3071  \n",
       "0    62    67    70    75    79    81    82    84    86  \n",
       "1    87    83    81    79    71    67    60    60    62  \n",
       "2   121   117   105    97   117   121   113   109    88  \n",
       "3    18    17     9     5    17    47    69    73    73  \n",
       "4   141   115   110    97    82    82    76    81   119  \n",
       "\n",
       "[5 rows x 3072 columns]"
      ]
     },
     "execution_count": 10,
     "metadata": {},
     "output_type": "execute_result"
    }
   ],
   "source": [
    "e=panda.DataFrame(data[c])#values of data corresponding rows to the cat values\n",
    "f=panda.DataFrame(data[d])#values of data corresponding rows to the horse values\n",
    "x=panda.concat([e,f],ignore_index=True)#concatinating them to obtain the x\n",
    "x.head()#sample output"
   ]
  },
  {
   "cell_type": "code",
   "execution_count": 11,
   "metadata": {},
   "outputs": [
    {
     "data": {
      "text/html": [
       "<div>\n",
       "<style scoped>\n",
       "    .dataframe tbody tr th:only-of-type {\n",
       "        vertical-align: middle;\n",
       "    }\n",
       "\n",
       "    .dataframe tbody tr th {\n",
       "        vertical-align: top;\n",
       "    }\n",
       "\n",
       "    .dataframe thead th {\n",
       "        text-align: right;\n",
       "    }\n",
       "</style>\n",
       "<table border=\"1\" class=\"dataframe\">\n",
       "  <thead>\n",
       "    <tr style=\"text-align: right;\">\n",
       "      <th></th>\n",
       "      <th>0</th>\n",
       "    </tr>\n",
       "  </thead>\n",
       "  <tbody>\n",
       "    <tr>\n",
       "      <th>0</th>\n",
       "      <td>3</td>\n",
       "    </tr>\n",
       "    <tr>\n",
       "      <th>1</th>\n",
       "      <td>3</td>\n",
       "    </tr>\n",
       "    <tr>\n",
       "      <th>2</th>\n",
       "      <td>3</td>\n",
       "    </tr>\n",
       "    <tr>\n",
       "      <th>3</th>\n",
       "      <td>3</td>\n",
       "    </tr>\n",
       "    <tr>\n",
       "      <th>4</th>\n",
       "      <td>3</td>\n",
       "    </tr>\n",
       "  </tbody>\n",
       "</table>\n",
       "</div>"
      ],
      "text/plain": [
       "   0\n",
       "0  3\n",
       "1  3\n",
       "2  3\n",
       "3  3\n",
       "4  3"
      ]
     },
     "execution_count": 11,
     "metadata": {},
     "output_type": "execute_result"
    }
   ],
   "source": [
    "y=panda.concat([a,b],ignore_index=True)#obtaining y by concatinating the values of cat and horse class labels\n",
    "y.head()#sample output"
   ]
  },
  {
   "cell_type": "code",
   "execution_count": 12,
   "metadata": {},
   "outputs": [
    {
     "name": "stdout",
     "output_type": "stream",
     "text": [
      "2017\n",
      "2017\n"
     ]
    }
   ],
   "source": [
    "print(len(x))#length of x\n",
    "print(len(y))#length of y"
   ]
  },
  {
   "cell_type": "code",
   "execution_count": 87,
   "metadata": {},
   "outputs": [],
   "source": [
    "xtrain=x[0:100]#splitting to x train and y train and x test and y test\n",
    "xtest=x[101:120]\n",
    "ytrain=y[0:100]\n",
    "ytest=y[101:120]"
   ]
  },
  {
   "cell_type": "code",
   "execution_count": 176,
   "metadata": {},
   "outputs": [],
   "source": [
    "#this is work of Sai\n",
    "class FFNN():#intiating the class for feed forward neural network\n",
    "    def sig(self, a): # sigmoid function for the model\n",
    "        return 1 / (1 + num.exp(-a))#output for the sigmoid function\n",
    "    def derivativesig(self, a):#function for the derivative of the sigmoid\n",
    "        #derivative of sigmoid\n",
    "        return self.sigmoid(a) * (1 - self.sigmoid(a))#output for the derivative sigmoid function\n",
    "    \n",
    "    def __init__(self, xtrain, ytrain, xtest, ytest,  beta=0.02, epoch=50, hidlayer = 1, hid_node =400 ):#obtaining the test train data\n",
    "        #and giving the no of nodes for the hidden and input layer\n",
    "        self.out_layer = 1#defining the output layer\n",
    "        self.output = None#initialising the output value for future use\n",
    "        self.predval = None#initialising the prediction value for future use\n",
    "        self.hidlayer = hidlayer #storing the value for the hidden layer\n",
    "        self.hid_node = hid_node #storing the value for number of hidden nodes\n",
    "        self.beta = beta #storing the beta or the learning rate value\n",
    "        self.epoch = epoch #storing the epoch value\n",
    "        self.xtrain = xtrain.as_matrix() # storing the training dataset for x\n",
    "        self.imp_layer = xtrain.as_matrix().shape[1]#storing the number of nodes in the input layer\n",
    "        self.ytrain = ytrain # storing the training dataset for y \n",
    "        self.xtest = xtest.as_matrix() # storing the testing dataset for x\n",
    "        self.ytest = ytest.as_matrix()# storing the testing dataset for y\n",
    "        self.w1 = num.random.randn(self.imp_layer, self.hid_node) # initialising random weights for w1\n",
    "        self.w2 = num.random.randn(self.hid_node, self.out_layer)# initialising random weights for w2\n",
    "        self.b1 = num.ones((1, self.hid_node))# initialising random weights for b1\n",
    "        self.b2 = num.ones((1, self.out_layer))# initialising random weights for b2\n",
    "    \n",
    "    def grad(self, d1, d2, tb1, tb2):#initialising the gradient function for the neural network.\n",
    "        self.w1 = self.w1 - (self.beta*d1)#updating weight of w1 using d1\n",
    "        self.w2 = self.w2 - (self.beta * d2)#updating weight of w2 using d2\n",
    "        self.b1 = self.b1 - self.beta*tb1#updating weight of b1 using tb1\n",
    "        self.b2 = self.b2 - self.beta*tb2#updating weight of b2 using tb2\n",
    "   #this part of work of Surya     \n",
    "    def BWprop(self):#initialising the forward backward propagation\n",
    "        x1 = num.array(self.xtrain)#starting the forward propogation by initialising x1 with values of xtrain\n",
    "        y1 = num.dot(self.xtrain, self.w1) + self.b1#generating y1 based on xtrain and the weights of w1 and b1\n",
    "        x2 = self.sig(y1)#taking x2 as the value of the sigmoid function of y1\n",
    "        y2 = num.dot(x2, self.w2) + self.b2#generating y2 based on x2 and the weights of w2 and b2\n",
    "        x3 = self.sig(y2)#taking x2 as the value of the sigmoid function of y2\n",
    "        e = x3 - num.array(self.ytrain).reshape(len(self.ytrain), 1)#updating the error value as the difference between x3 and ytrain\n",
    "        delta2 = e * x3 * (1-x3)  #delta2 is obtained as the product of error and x3 and (1-x3)\n",
    "        delta1 = num.dot(delta2,  self.w2.T) * x2 * (1-x2)#initialising the backward propogation by obtaining the delta1 value\n",
    "        #as the dot product of w2 ,x2 and (1-x2)\n",
    "        d1 = num.dot(self.xtrain.T, delta1)#d1 is obtained as the dot product of transpose of xtrain and delta1\n",
    "        tb1 = num.sum(delta1, axis=0).reshape(num.shape(self.b1))#tb1 is obtained as the sum of the delta1 and the b1 reshaped value       \n",
    "        d2 = num.dot(x2.T, delta2) #d2 is obtained as the dot product of the transpose of T and delta2\n",
    "        tb2 = num.sum(delta2, axis=0).reshape(num.shape(self.b2))#tb2 is obtained as the sum of delta2 and the reshaped value of b2\n",
    "        self.grad(d1, d2, tb1, tb2)# readjusting the weights by the help of gradient function                              \n",
    "       \n",
    "        return x3, e #returns the values of x3 and e respestively\n",
    "\n",
    "    def train(self):#initialising the train function to train the data \n",
    "        ERR = []#initialising a list for storing the error values\n",
    "        for i in range(self.epoch):#looping for the range of the epoch\n",
    "            out, e = self.BWprop()#storing forward and backward propogation results for the dataset in variables out and e\n",
    "            self.output = out#storing the final output value for publishing later\n",
    "            RMSE = ((num.sum(e) ** 2)**(1/2))/len(self.ytrain)#obtaining the root mean square error\n",
    "            ERR.append(RMSE)#storing the values of error\n",
    "\n",
    "        return ERR\n",
    "\n",
    "    def Pred(self):#initialising the predict function for predicting the values based on xtest\n",
    "        x1 = num.array(self.xtest)#storing the values of xtest in x1\n",
    "        y1 = num.dot(x1, self.w1)#obtaining y1 as the dot product of x1 and weight w1\n",
    "        x2 = self.sig(y1)#obtaining x2 as the value of the sigmoid function of y1\n",
    "        y2 = num.dot(x2, self.w2)#getting y2 as the dot product of x2 and weight w2\n",
    "        x3 = self.sig(y2)#obtaining x3 as the value of the sigmoid function of y2\n",
    "        self.predval = num.round(x3)#obtaining the predicted value as the rounded value of x3."
   ]
  },
  {
   "cell_type": "code",
   "execution_count": 185,
   "metadata": {},
   "outputs": [
    {
     "name": "stderr",
     "output_type": "stream",
     "text": [
      "C:\\Users\\sayei\\Anaconda3\\lib\\site-packages\\ipykernel_launcher.py:16: FutureWarning: Method .as_matrix will be removed in a future version. Use .values instead.\n",
      "  app.launch_new_instance()\n",
      "C:\\Users\\sayei\\Anaconda3\\lib\\site-packages\\ipykernel_launcher.py:17: FutureWarning: Method .as_matrix will be removed in a future version. Use .values instead.\n",
      "C:\\Users\\sayei\\Anaconda3\\lib\\site-packages\\ipykernel_launcher.py:19: FutureWarning: Method .as_matrix will be removed in a future version. Use .values instead.\n",
      "C:\\Users\\sayei\\Anaconda3\\lib\\site-packages\\ipykernel_launcher.py:20: FutureWarning: Method .as_matrix will be removed in a future version. Use .values instead.\n"
     ]
    },
    {
     "data": {
      "image/png": "[encoded data removed]",
      "text/plain": [
       "<Figure size 432x288 with 1 Axes>"
      ]
     },
     "metadata": {
      "needs_background": "light"
     },
     "output_type": "display_data"
    },
    {
     "data": {
      "image/png": "[encoded data removed]",
      "text/plain": [
       "<Figure size 432x288 with 2 Axes>"
      ]
     },
     "metadata": {
      "needs_background": "light"
     },
     "output_type": "display_data"
    },
    {
     "name": "stdout",
     "output_type": "stream",
     "text": [
      "Test Accuracy for Cat and Horse is  36.8421052631579\n"
     ]
    }
   ],
   "source": [
    "#this part of work of Surya\n",
    "cathorse = FFNN(xtrain, ytrain, xtest, ytest)#feeding the values into the model\n",
    "err = cathorse.train()#storing the trained values in a variable\n",
    "cathorse.Pred()#performing prediction\n",
    "plot.plot(err)#plotting the trained values\n",
    "plot.xlabel(\"Epoch\")#giving x label\n",
    "plot.ylabel(\"Error\")#giving y label\n",
    "plot.title(\"Error vs Epoch for Cat and Horse\")#providing the title\n",
    "plot.show()#showing the obtained plot\n",
    "#this is work of Sai\n",
    "axis=plot.axes()#storing the axis values\n",
    "con_matrix = metrics.confusion_matrix(cathorse.ytest, cathorse.predval, sample_weight=None)\n",
    "#producing the confusion matrix\n",
    "con_val = panda.DataFrame(con_matrix, columns = [\"Pre0\", \"Pre1\"], index=[\"Act0\", \"Act1\"])\n",
    "sea.heatmap(con_val, annot=True,annot_kws={\"size\": 8}, fmt='g', cmap='Greens', ax=axis)#generating it through heatmap\n",
    "axis.set_title('Confusion Matrix for cat and horse')#establishing the title\n",
    "plot.show()#showing the confusion matrix\n",
    "print('Test Accuracy for Cat and Horse is ', (1-num.sum(abs(cathorse.predval - cathorse.ytest.reshape(len(cathorse.ytest), 1)))/len(cathorse.ytest))*100)\n",
    "#obtaining the accuracy  "
   ]
  },
  {
   "cell_type": "markdown",
   "metadata": {},
   "source": [
    "Observation\n",
    "It is seen that large number of hidden nodes needed for proper functioniong of the model\n",
    "It takes alot of time to process due to several columns in x and therefore epoch is kept low for getting reasonable output\n",
    "The error vs epoch curve seems to be following the conventional way\n",
    "The error values are high at the start and reduced gradually\n",
    "There are several false positive and negative values present which means that the class horse and cat are wrongly classified alot of times and hence the lower accuracy\n",
    "Therefore, weights are to be rearranged properly with proper nodes inorder to improve the accuracy."
   ]
  },
  {
   "cell_type": "markdown",
   "metadata": {},
   "source": [
    "Part 5\n",
    "\n",
    "Both of us were unable to implement the improvement due to lack of time and hence submitting only the theoritical concept of the improvement that could have been implemented to the model."
   ]
  },
  {
   "cell_type": "markdown",
   "metadata": {},
   "source": [
    "Work by Sai Krishna\n",
    "\n",
    "Implementation using ReLU:\n",
    "The basic architecture involves creating a feed forward network with 2 hidden layers, where all the hidden layers will have 3 neurons. The first and the second hidden layers have the relu and sigmoid functions respectively as activation functions. The final layer has the softmax function. Once the algorithm has a forward pass the error is calculated using the cross entropy method. Usually, this particular  method is applied for each element in such a way that we get the output required of other function, such that it is like a product of matrix-vector. In the usage of MLP , we utilise the individual rectifier units with which we replace other activation functions used We can also mix-and-match the different layers based on our choice. One of the several ways ReLUs  can immensely help us to improve the neural nets is by increasing the speed of  the process of  training the model. The gradient computation is a very simple step such  that the obtained value is either 0 or 1 depending on the sign of the input. Also, if we consider the computational step of a ReLU  it is comparatively easy because of the fact that  any negative elements which have been set to 0.0 such that none of the exponentials, or none of the multiplicative or division operations could affect the outcome. Logistic gradient and the corresponding hyperbolic tangent networks are generally smaller than the corresponding positive portions of the ReLU. This signifies the fact that the positive portion of ReLU is updated more rapidly as training  of the model progresses."
   ]
  },
  {
   "cell_type": "markdown",
   "metadata": {},
   "source": [
    "Work by Surya Balakrishnan\n",
    "Implementation usingEnsemble\n",
    "\n",
    "One of the improvements which could be used to improve the performance of the neural nets algorithm is by the use of ensemble of algorithm. As an individual neural networks are not very accurate such that it could be deemed suitable. In this particular methodology we implement several methods of implementations of neural nets and we can use their combined predictive power. In other words, we can use different predictive models to work together combining the predictions from several models which adds a bias which can help us to encounter the problem of variability. We choose several different architectures of neural networks and we train the dataset on all of them or on different parts of the training datasets and then we ensemble them to use the collective predictive power to obtain improved accuracy scores. We can use the Pearson correlation between different individual classifiers to get the accuracy scores. Then we can choose the n best algorithms that produce the desired outputs, in this way the accuracy of the algorithm could be improved. However there are some general practices which needs to be followed among them we try to keep the ensemble small as it requires high computational resources. It is also better to choose different mathematical models as activation functions for ensembles so that we don’t end up with two similar algorithms doing the same task. We can also implement the k fold cross validation to repeat the process up to a fixed number of times to get a more accurate score. Alternatively we can use bootstrapping or bootstrap bagging ensemble to achieve the same."
   ]
  },
  {
   "cell_type": "markdown",
   "metadata": {},
   "source": [
    "References\n",
    "https://towardsdatascience.com/deep-learning-feedforward-neural-network-26a6705dbdc7\n",
    "https://dzone.com/articles/the-very-basic-introduction-to-feed-forward-neural\n",
    "https://stackoverflow.com/questions/52831534/why-is-a-method-of-a-python-class-declared-without-self-and-without-decorators\n",
    "https://stackoverflow.com/questions/45264141/convert-array-into-dataframe-in-python\n",
    "https://stackoverflow.com/questions/1720421/how-to-concatenate-two-lists-in-python\n",
    "https://stats.stackexchange.com/questions/226923/why-do-we-use-relu-in-neural-networks-and-how-do-we-use-it"
   ]
  }
 ],
 "metadata": {
  "kernelspec": {
   "display_name": "Python 3",
   "language": "python",
   "name": "python3"
  },
  "language_info": {
   "codemirror_mode": {
    "name": "ipython",
    "version": 3
   },
   "file_extension": ".py",
   "mimetype": "text/x-python",
   "name": "python",
   "nbconvert_exporter": "python",
   "pygments_lexer": "ipython3",
   "version": "3.7.0"
  }
 },
 "nbformat": 4,
 "nbformat_minor": 2
}
